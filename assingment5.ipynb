{
 "cells": [
  {
   "cell_type": "code",
   "execution_count": null,
   "id": "23185a6c-78dd-4c4a-923b-fdc3219a80e4",
   "metadata": {},
   "outputs": [],
   "source": [
    "#Write a program to print numbers from  1 to 10, but stop if the number is 5.\n",
    "a=0\n",
    "while a<=10:\n",
    "    if a==5:\n",
    "        break\n",
    "    print(a)\n",
    "    a+=1\n"
   ]
  },
  {
   "cell_type": "code",
   "execution_count": 9,
   "id": "9404c563-95fb-4a6f-b736-6083c1f134e3",
   "metadata": {},
   "outputs": [
    {
     "name": "stdout",
     "output_type": "stream",
     "text": [
      "1\n",
      "4\n",
      "7\n",
      "8\n"
     ]
    }
   ],
   "source": [
    "#Write a program to iterate through a list and stop when encountering a specific element.\n",
    "list=[1,4,7,8,45,67,89,90,103]\n",
    "a=45\n",
    "for al in list:\n",
    "    if al==a:\n",
    "        break\n",
    "    print(al)\n",
    "    "
   ]
  },
  {
   "cell_type": "code",
   "execution_count": null,
   "id": "66110847-21af-408e-a069-f482ae2bc0f4",
   "metadata": {},
   "outputs": [],
   "source": [
    "#Write a program to skip printing even numbers from  to 0.\n",
    "i=1\n",
    "while i<=10:\n",
    "    if i%2==0:\n",
    "        continue\n",
    "    print(i)\n",
    "    i=i+1"
   ]
  },
  {
   "cell_type": "code",
   "execution_count": 2,
   "id": "e926c9b2-ae95-4568-9caa-d143fe558bc7",
   "metadata": {},
   "outputs": [
    {
     "name": "stdout",
     "output_type": "stream",
     "text": [
      "1\n",
      "3\n",
      "5\n",
      "7\n",
      "9\n"
     ]
    }
   ],
   "source": [
    "for i in range(1,11):\n",
    "    if i%2==0:\n",
    "        continue\n",
    "    print(i)"
   ]
  },
  {
   "cell_type": "code",
   "execution_count": 1,
   "id": "a2176526-a3a6-4ae5-b98e-7f8dbb966cad",
   "metadata": {},
   "outputs": [
    {
     "name": "stdout",
     "output_type": "stream",
     "text": [
      "0\n",
      "1\n",
      "2\n",
      "3\n",
      "4\n",
      "5\n",
      "6\n",
      "7\n",
      "8\n",
      "9\n"
     ]
    }
   ],
   "source": [
    "for i in range(0,10):\n",
    "    print(i)"
   ]
  },
  {
   "cell_type": "code",
   "execution_count": null,
   "id": "8cf2cb7a-58a9-49a0-ba15-6375623b3d0c",
   "metadata": {},
   "outputs": [],
   "source": [
    "a=int(input(\"enter a number\"))\n",
    "b=1\n",
    "while b<=10:\n",
    "    print(a*b)\n",
    "    b=b+1"
   ]
  },
  {
   "cell_type": "code",
   "execution_count": null,
   "id": "f5e6fefb-02cb-4c3c-abb1-c6d15214d3cd",
   "metadata": {},
   "outputs": [],
   "source": []
  },
  {
   "cell_type": "code",
   "execution_count": null,
   "id": "fbe3b4d1-1308-4a1a-bcd4-c4e645d21495",
   "metadata": {},
   "outputs": [],
   "source": []
  }
 ],
 "metadata": {
  "kernelspec": {
   "display_name": "Python 3 (ipykernel)",
   "language": "python",
   "name": "python3"
  },
  "language_info": {
   "codemirror_mode": {
    "name": "ipython",
    "version": 3
   },
   "file_extension": ".py",
   "mimetype": "text/x-python",
   "name": "python",
   "nbconvert_exporter": "python",
   "pygments_lexer": "ipython3",
   "version": "3.10.8"
  }
 },
 "nbformat": 4,
 "nbformat_minor": 5
}
